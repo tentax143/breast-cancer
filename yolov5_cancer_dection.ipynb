{
  "cells": [
    {
      "cell_type": "code",
      "execution_count": 1,
      "metadata": {
        "colab": {
          "base_uri": "https://localhost:8080/"
        },
        "id": "7wayRhtVJNR_",
        "outputId": "6fc62bb5-c4a6-48c7-8b6b-d063529d45cd"
      },
      "outputs": [
        {
          "name": "stdout",
          "output_type": "stream",
          "text": [
            "c:\\Users\\kapil\\Downloads\\New folder (2)\\yolov5\n"
          ]
        },
        {
          "name": "stderr",
          "output_type": "stream",
          "text": [
            "fatal: destination path 'yolov5' already exists and is not an empty directory.\n",
            "C:\\Users\\kapil\\AppData\\Roaming\\Python\\Python312\\site-packages\\IPython\\core\\magics\\osm.py:417: UserWarning: This is now an optional IPython functionality, setting dhist requires you to install the `pickleshare` library.\n",
            "  self.shell.db['dhist'] = compress_dhist(dhist)[-100:]\n",
            "ERROR: Could not open requirements file: [Errno 2] No such file or directory: 'requirements.txt'\n"
          ]
        },
        {
          "name": "stdout",
          "output_type": "stream",
          "text": [
            "Note: you may need to restart the kernel to use updated packages.\n"
          ]
        },
        {
          "ename": "ModuleNotFoundError",
          "evalue": "No module named 'utils'",
          "output_type": "error",
          "traceback": [
            "\u001b[1;31m---------------------------------------------------------------------------\u001b[0m",
            "\u001b[1;31mModuleNotFoundError\u001b[0m                       Traceback (most recent call last)",
            "Cell \u001b[1;32mIn[1], line 6\u001b[0m\n\u001b[0;32m      3\u001b[0m get_ipython()\u001b[38;5;241m.\u001b[39mrun_line_magic(\u001b[38;5;124m'\u001b[39m\u001b[38;5;124mpip\u001b[39m\u001b[38;5;124m'\u001b[39m, \u001b[38;5;124m'\u001b[39m\u001b[38;5;124minstall -qr requirements.txt comet_ml\u001b[39m\u001b[38;5;124m'\u001b[39m)\n\u001b[0;32m      5\u001b[0m \u001b[38;5;28;01mimport\u001b[39;00m \u001b[38;5;21;01mtorch\u001b[39;00m\n\u001b[1;32m----> 6\u001b[0m \u001b[38;5;28;01mimport\u001b[39;00m \u001b[38;5;21;01mutils\u001b[39;00m\n\u001b[0;32m      7\u001b[0m display \u001b[38;5;241m=\u001b[39m utils\u001b[38;5;241m.\u001b[39mnotebook_init()\n",
            "\u001b[1;31mModuleNotFoundError\u001b[0m: No module named 'utils'"
          ]
        },
        {
          "ename": "",
          "evalue": "",
          "output_type": "error",
          "traceback": [
            "\u001b[1;31mThe Kernel crashed while executing code in the current cell or a previous cell. \n",
            "\u001b[1;31mPlease review the code in the cell(s) to identify a possible cause of the failure. \n",
            "\u001b[1;31mClick <a href='https://aka.ms/vscodeJupyterKernelCrash'>here</a> for more info. \n",
            "\u001b[1;31mView Jupyter <a href='command:jupyter.viewOutput'>log</a> for further details."
          ]
        }
      ],
      "source": [
        "!git clone https://github.com/ultralytics/yolov5\n",
        "%cd yolov5\n",
        "%pip install -qr requirements.txt comet_ml\n",
        "\n",
        "import torch\n",
        "import utils\n",
        "display = utils.notebook_init()"
      ]
    },
    {
      "cell_type": "code",
      "execution_count": 1,
      "metadata": {
        "colab": {
          "base_uri": "https://localhost:8080/",
          "height": 1000
        },
        "id": "gnJNcBsqPxhK",
        "outputId": "1a6393a1-6c92-457a-8754-e5e08455490a"
      },
      "outputs": [
        {
          "name": "stderr",
          "output_type": "stream",
          "text": [
            "ERROR: pip's dependency resolver does not currently take into account all the packages that are installed. This behaviour is the source of the following dependency conflicts.\n",
            "httpx 0.13.3 requires chardet==3.*, but you have chardet 4.0.0 which is incompatible.\n"
          ]
        },
        {
          "name": "stdout",
          "output_type": "stream",
          "text": [
            "Collecting roboflow\n",
            "  Using cached roboflow-1.1.26-py3-none-any.whl.metadata (9.3 kB)\n",
            "Collecting certifi==2023.7.22 (from roboflow)\n",
            "  Using cached certifi-2023.7.22-py3-none-any.whl.metadata (2.2 kB)\n",
            "Collecting chardet==4.0.0 (from roboflow)\n",
            "  Using cached chardet-4.0.0-py2.py3-none-any.whl.metadata (3.5 kB)\n",
            "Collecting cycler==0.10.0 (from roboflow)\n",
            "  Using cached cycler-0.10.0-py2.py3-none-any.whl.metadata (722 bytes)\n",
            "Requirement already satisfied: idna==2.10 in c:\\users\\kapil\\appdata\\local\\programs\\python\\python312\\lib\\site-packages (from roboflow) (2.10)\n",
            "Requirement already satisfied: kiwisolver>=1.3.1 in c:\\users\\kapil\\appdata\\local\\programs\\python\\python312\\lib\\site-packages (from roboflow) (1.4.5)\n",
            "Requirement already satisfied: matplotlib in c:\\users\\kapil\\appdata\\local\\programs\\python\\python312\\lib\\site-packages (from roboflow) (3.8.3)\n",
            "Requirement already satisfied: numpy>=1.18.5 in c:\\users\\kapil\\appdata\\local\\programs\\python\\python312\\lib\\site-packages (from roboflow) (1.26.4)\n",
            "Collecting opencv-python-headless==4.8.0.74 (from roboflow)\n",
            "  Using cached opencv_python_headless-4.8.0.74-cp37-abi3-win_amd64.whl.metadata (19 kB)\n",
            "Requirement already satisfied: Pillow>=7.1.2 in c:\\users\\kapil\\appdata\\local\\programs\\python\\python312\\lib\\site-packages (from roboflow) (10.2.0)\n",
            "Requirement already satisfied: python-dateutil in c:\\users\\kapil\\appdata\\local\\programs\\python\\python312\\lib\\site-packages (from roboflow) (2.9.0)\n",
            "Requirement already satisfied: python-dotenv in c:\\users\\kapil\\appdata\\local\\programs\\python\\python312\\lib\\site-packages (from roboflow) (1.0.1)\n",
            "Requirement already satisfied: requests in c:\\users\\kapil\\appdata\\local\\programs\\python\\python312\\lib\\site-packages (from roboflow) (2.31.0)\n",
            "Requirement already satisfied: six in c:\\users\\kapil\\appdata\\local\\programs\\python\\python312\\lib\\site-packages (from roboflow) (1.16.0)\n",
            "Requirement already satisfied: urllib3>=1.26.6 in c:\\users\\kapil\\appdata\\local\\programs\\python\\python312\\lib\\site-packages (from roboflow) (2.2.1)\n",
            "Requirement already satisfied: tqdm>=4.41.0 in c:\\users\\kapil\\appdata\\local\\programs\\python\\python312\\lib\\site-packages (from roboflow) (4.66.2)\n",
            "Requirement already satisfied: PyYAML>=5.3.1 in c:\\users\\kapil\\appdata\\local\\programs\\python\\python312\\lib\\site-packages (from roboflow) (6.0.1)\n",
            "Requirement already satisfied: requests-toolbelt in c:\\users\\kapil\\appdata\\local\\programs\\python\\python312\\lib\\site-packages (from roboflow) (1.0.0)\n",
            "Requirement already satisfied: python-magic in c:\\users\\kapil\\appdata\\local\\programs\\python\\python312\\lib\\site-packages (from roboflow) (0.4.27)\n",
            "Requirement already satisfied: colorama in c:\\users\\kapil\\appdata\\local\\programs\\python\\python312\\lib\\site-packages (from tqdm>=4.41.0->roboflow) (0.4.6)\n",
            "Requirement already satisfied: contourpy>=1.0.1 in c:\\users\\kapil\\appdata\\local\\programs\\python\\python312\\lib\\site-packages (from matplotlib->roboflow) (1.2.0)\n",
            "Requirement already satisfied: fonttools>=4.22.0 in c:\\users\\kapil\\appdata\\local\\programs\\python\\python312\\lib\\site-packages (from matplotlib->roboflow) (4.49.0)\n",
            "Requirement already satisfied: packaging>=20.0 in c:\\users\\kapil\\appdata\\local\\programs\\python\\python312\\lib\\site-packages (from matplotlib->roboflow) (23.2)\n",
            "Requirement already satisfied: pyparsing>=2.3.1 in c:\\users\\kapil\\appdata\\local\\programs\\python\\python312\\lib\\site-packages (from matplotlib->roboflow) (3.1.1)\n",
            "Requirement already satisfied: charset-normalizer<4,>=2 in c:\\users\\kapil\\appdata\\local\\programs\\python\\python312\\lib\\site-packages (from requests->roboflow) (3.3.2)\n",
            "Using cached roboflow-1.1.26-py3-none-any.whl (71 kB)\n",
            "Using cached certifi-2023.7.22-py3-none-any.whl (158 kB)\n",
            "Using cached chardet-4.0.0-py2.py3-none-any.whl (178 kB)\n",
            "Using cached cycler-0.10.0-py2.py3-none-any.whl (6.5 kB)\n",
            "Using cached opencv_python_headless-4.8.0.74-cp37-abi3-win_amd64.whl (38.0 MB)\n",
            "Installing collected packages: opencv-python-headless, cycler, chardet, certifi, roboflow\n",
            "  Attempting uninstall: cycler\n",
            "    Found existing installation: cycler 0.12.1\n",
            "    Uninstalling cycler-0.12.1:\n",
            "      Successfully uninstalled cycler-0.12.1\n",
            "  Attempting uninstall: chardet\n",
            "    Found existing installation: chardet 3.0.4\n",
            "    Uninstalling chardet-3.0.4:\n",
            "      Successfully uninstalled chardet-3.0.4\n",
            "  Attempting uninstall: certifi\n",
            "    Found existing installation: certifi 2024.2.2\n",
            "    Uninstalling certifi-2024.2.2:\n",
            "      Successfully uninstalled certifi-2024.2.2\n",
            "Successfully installed certifi-2023.7.22 chardet-4.0.0 cycler-0.10.0 opencv-python-headless-4.8.0.74 roboflow-1.1.26\n",
            "Note: you may need to restart the kernel to use updated packages.\n",
            "loading Roboflow workspace...\n",
            "loading Roboflow project...\n"
          ]
        },
        {
          "name": "stderr",
          "output_type": "stream",
          "text": [
            "Downloading Dataset Version Zip in breast-cancer-1 to yolov5pytorch:: 100%|██████████| 23784/23784 [00:04<00:00, 4846.04it/s] "
          ]
        },
        {
          "name": "stdout",
          "output_type": "stream",
          "text": [
            "\n"
          ]
        },
        {
          "name": "stderr",
          "output_type": "stream",
          "text": [
            "\n",
            "Extracting Dataset Version Zip to breast-cancer-1 in yolov5pytorch:: 100%|██████████| 1232/1232 [00:00<00:00, 2152.98it/s]\n"
          ]
        }
      ],
      "source": [
        "%pip install roboflow\n",
        "\n",
        "from roboflow import Roboflow\n",
        "rf = Roboflow(api_key=\"npNt7sdH4987TNeCPwGR\")\n",
        "project = rf.workspace(\"g-hacker-ezcxb\").project(\"breast-cancer-jq1sj\")\n",
        "dataset = project.version(1).download(\"yolov5\")\n"
      ]
    },
    {
      "cell_type": "code",
      "execution_count": 9,
      "metadata": {
        "colab": {
          "base_uri": "https://localhost:8080/"
        },
        "id": "2ZSq9hmcJ2vk",
        "outputId": "568ac9b3-46fe-485f-b712-465fb755a187"
      },
      "outputs": [
        {
          "name": "stderr",
          "output_type": "stream",
          "text": [
            "\u001b[34m\u001b[1mdetect: \u001b[0mweights=['yolov5s.pt'], source=C:\\Users\\kapil\\Downloads\\New folder (2)\\breast-cancer-1\\test\\images, data=yolov5\\yolov5\\data\\coco128.yaml, imgsz=[640, 640], conf_thres=0.25, iou_thres=0.45, max_det=1000, device=, view_img=False, save_txt=False, save_csv=False, save_conf=False, save_crop=False, nosave=False, classes=None, agnostic_nms=False, augment=False, visualize=False, update=False, project=yolov5\\yolov5\\runs\\detect, name=exp, exist_ok=False, line_thickness=3, hide_labels=False, hide_conf=False, half=False, dnn=False, vid_stride=1\n",
            "fatal: cannot change to 'C:\\Users\\kapil\\Downloads\\New': No such file or directory\n",
            "YOLOv5  2024-4-5 Python-3.12.2 torch-2.2.2+cpu CPU\n",
            "\n",
            "Fusing layers... \n",
            "YOLOv5s summary: 213 layers, 7225885 parameters, 0 gradients, 16.4 GFLOPs\n",
            "image 1/24 C:\\Users\\kapil\\Downloads\\New folder (2)\\breast-cancer-1\\test\\images\\8863_idx5_x1101_y1551_class1_png.rf.f829e8917f54db69a2623f4f331a6f03.jpg: 640x640 (no detections), 223.2ms\n",
            "image 2/24 C:\\Users\\kapil\\Downloads\\New folder (2)\\breast-cancer-1\\test\\images\\8863_idx5_x1151_y2051_class0_png.rf.baaf053d1e164a32d24b147619b3b4d6.jpg: 640x640 (no detections), 232.7ms\n",
            "image 3/24 C:\\Users\\kapil\\Downloads\\New folder (2)\\breast-cancer-1\\test\\images\\8863_idx5_x1201_y1351_class0_png.rf.f386a92e519fb06f26bc95273307dc06.jpg: 640x640 (no detections), 202.6ms\n",
            "image 4/24 C:\\Users\\kapil\\Downloads\\New folder (2)\\breast-cancer-1\\test\\images\\8863_idx5_x1201_y1501_class1_png.rf.6de3a4e1466b12ba21c71769fb2bc805.jpg: 640x640 (no detections), 205.2ms\n",
            "image 5/24 C:\\Users\\kapil\\Downloads\\New folder (2)\\breast-cancer-1\\test\\images\\8863_idx5_x1201_y1901_class0_png.rf.7cc6ad3be8d7d7d90f27d18fc2d7c718.jpg: 640x640 (no detections), 246.8ms\n",
            "image 6/24 C:\\Users\\kapil\\Downloads\\New folder (2)\\breast-cancer-1\\test\\images\\8863_idx5_x1201_y701_class0_png.rf.af942a07558c8daab90e748c2631fed3.jpg: 640x640 (no detections), 142.8ms\n",
            "image 7/24 C:\\Users\\kapil\\Downloads\\New folder (2)\\breast-cancer-1\\test\\images\\8863_idx5_x1301_y2151_class0_png.rf.e2e3b2d7404ce0dfdba65f375c99953e.jpg: 640x640 (no detections), 133.2ms\n",
            "image 8/24 C:\\Users\\kapil\\Downloads\\New folder (2)\\breast-cancer-1\\test\\images\\8863_idx5_x1301_y501_class0_png.rf.423a88a6337bb52c9ac98b55920d369f.jpg: 640x640 (no detections), 126.5ms\n",
            "image 9/24 C:\\Users\\kapil\\Downloads\\New folder (2)\\breast-cancer-1\\test\\images\\8863_idx5_x1351_y501_class0_png.rf.82950a7972c0e015fbb2c5179fe380a1.jpg: 640x640 (no detections), 132.7ms\n",
            "image 10/24 C:\\Users\\kapil\\Downloads\\New folder (2)\\breast-cancer-1\\test\\images\\8863_idx5_x1401_y1051_class1_png.rf.79c229aaee9fe194a2a2b178c456208c.jpg: 640x640 (no detections), 141.7ms\n",
            "image 11/24 C:\\Users\\kapil\\Downloads\\New folder (2)\\breast-cancer-1\\test\\images\\8863_idx5_x1401_y2251_class0_png.rf.92d8eb8ceed9b83e4b154b128b2a7b99.jpg: 640x640 (no detections), 142.5ms\n",
            "image 12/24 C:\\Users\\kapil\\Downloads\\New folder (2)\\breast-cancer-1\\test\\images\\8863_idx5_x1401_y651_class0_png.rf.ccb66baeac502652da2b416f32d94ebe.jpg: 640x640 (no detections), 171.3ms\n",
            "image 13/24 C:\\Users\\kapil\\Downloads\\New folder (2)\\breast-cancer-1\\test\\images\\8863_idx5_x1451_y1951_class0_png.rf.aed2665f5c0ea1fa65db44d7e8ee46bf.jpg: 640x640 (no detections), 213.2ms\n",
            "image 14/24 C:\\Users\\kapil\\Downloads\\New folder (2)\\breast-cancer-1\\test\\images\\8863_idx5_x1601_y2101_class0_png.rf.ef8ab3ff259b1b0f200296a73c810c5f.jpg: 640x640 (no detections), 179.8ms\n",
            "image 15/24 C:\\Users\\kapil\\Downloads\\New folder (2)\\breast-cancer-1\\test\\images\\8863_idx5_x1651_y1851_class0_png.rf.6a63b49394d807eb04e32a445d6e56d3.jpg: 640x640 (no detections), 206.4ms\n",
            "image 16/24 C:\\Users\\kapil\\Downloads\\New folder (2)\\breast-cancer-1\\test\\images\\8863_idx5_x1701_y2001_class0_png.rf.6ca2b303e1d5c727486a3440fa9bcfe3.jpg: 640x640 (no detections), 204.5ms\n",
            "image 17/24 C:\\Users\\kapil\\Downloads\\New folder (2)\\breast-cancer-1\\test\\images\\8863_idx5_x2001_y451_class0_png.rf.7a5daffdbf8a4f95097009c17c6b34df.jpg: 640x640 (no detections), 197.0ms\n",
            "image 18/24 C:\\Users\\kapil\\Downloads\\New folder (2)\\breast-cancer-1\\test\\images\\8863_idx5_x2501_y1701_class0_png.rf.8dda16f93ddc25c5fa427390fbdc1fd4.jpg: 640x640 (no detections), 224.7ms\n",
            "image 19/24 C:\\Users\\kapil\\Downloads\\New folder (2)\\breast-cancer-1\\test\\images\\8863_idx5_x551_y1101_class0_png.rf.98c65e7f513e5b28d90438af2259eefa.jpg: 640x640 (no detections), 231.2ms\n",
            "image 20/24 C:\\Users\\kapil\\Downloads\\New folder (2)\\breast-cancer-1\\test\\images\\8863_idx5_x551_y1501_class0_png.rf.676578b0b0036011bb7aa16c77a922ba.jpg: 640x640 (no detections), 249.6ms\n",
            "image 21/24 C:\\Users\\kapil\\Downloads\\New folder (2)\\breast-cancer-1\\test\\images\\8863_idx5_x751_y1751_class0_png.rf.a26f0a63c6268cffcebd96dff94512f1.jpg: 640x640 (no detections), 271.3ms\n",
            "image 22/24 C:\\Users\\kapil\\Downloads\\New folder (2)\\breast-cancer-1\\test\\images\\8863_idx5_x851_y1251_class0_png.rf.5dccd8259959116ad6fe6fd144459cbd.jpg: 640x640 (no detections), 234.4ms\n",
            "image 23/24 C:\\Users\\kapil\\Downloads\\New folder (2)\\breast-cancer-1\\test\\images\\8863_idx5_x851_y1851_class0_png.rf.64569d196a551df8a192752825e69d94.jpg: 640x640 (no detections), 196.6ms\n",
            "image 24/24 C:\\Users\\kapil\\Downloads\\New folder (2)\\breast-cancer-1\\test\\images\\8863_idx5_x951_y1401_class0_png.rf.4ef8515655e369e965eab4a45f994d51.jpg: 640x640 (no detections), 208.7ms\n",
            "Speed: 1.0ms pre-process, 196.6ms inference, 0.4ms NMS per image at shape (1, 3, 640, 640)\n",
            "Results saved to \u001b[1myolov5\\yolov5\\runs\\detect\\exp3\u001b[0m\n"
          ]
        }
      ],
      "source": [
        "!python \"C:\\Users\\kapil\\Downloads\\New folder (2)\\yolov5\\yolov5\\detect.py\" --weights yolov5s.pt --img 640 --conf 0.25 --source \"C:\\Users\\kapil\\Downloads\\New folder (2)\\breast-cancer-1\\test\\images\"\n",
        "\n"
      ]
    },
    {
      "cell_type": "code",
      "execution_count": 13,
      "metadata": {
        "colab": {
          "base_uri": "https://localhost:8080/"
        },
        "id": "nfbExlA8RnuN",
        "outputId": "aae4556d-2397-4545-a14b-5933e376dd8b"
      },
      "outputs": [
        {
          "name": "stderr",
          "output_type": "stream",
          "text": [
            "\u001b[34m\u001b[1mtrain: \u001b[0mweights=yolov5s.pt, cfg=, data=C:\\Users\\kapil\\Downloads\\New folder (2)\\breast-cancer-1\\data.yaml, hyp=yolov5\\yolov5\\data\\hyps\\hyp.scratch-low.yaml, epochs=150, batch_size=16, imgsz=416, rect=False, resume=False, nosave=False, noval=False, noautoanchor=False, noplots=False, evolve=None, evolve_population=yolov5\\yolov5\\data\\hyps, resume_evolve=None, bucket=, cache=ram, image_weights=False, device=, multi_scale=False, single_cls=False, optimizer=SGD, sync_bn=False, workers=8, project=yolov5\\yolov5\\runs\\train, name=exp, exist_ok=False, quad=False, cos_lr=False, label_smoothing=0.0, patience=100, freeze=[0], save_period=-1, seed=0, local_rank=-1, entity=None, upload_dataset=False, bbox_interval=-1, artifact_alias=latest, ndjson_console=False, ndjson_file=False\n",
            "\u001b[34m\u001b[1mgithub: \u001b[0mup to date with https://github.com/ultralytics/yolov5 \n",
            "fatal: cannot change to 'C:\\Users\\kapil\\Downloads\\New': No such file or directory\n",
            "YOLOv5  2024-4-5 Python-3.12.2 torch-2.2.2+cpu CPU\n",
            "\n",
            "\u001b[34m\u001b[1mhyperparameters: \u001b[0mlr0=0.01, lrf=0.01, momentum=0.937, weight_decay=0.0005, warmup_epochs=3.0, warmup_momentum=0.8, warmup_bias_lr=0.1, box=0.05, cls=0.5, cls_pw=1.0, obj=1.0, obj_pw=1.0, iou_t=0.2, anchor_t=4.0, fl_gamma=0.0, hsv_h=0.015, hsv_s=0.7, hsv_v=0.4, degrees=0.0, translate=0.1, scale=0.5, shear=0.0, perspective=0.0, flipud=0.0, fliplr=0.5, mosaic=1.0, mixup=0.0, copy_paste=0.0\n",
            "\u001b[34m\u001b[1mTensorBoard: \u001b[0mStart with 'tensorboard --logdir yolov5\\yolov5\\runs\\train', view at http://localhost:6006/\n",
            "COMET WARNING: Comet credentials have not been set. Comet will default to offline logging. Please set your credentials to enable online logging.\n",
            "COMET INFO: Using 'C:\\\\Users\\\\kapil\\\\Downloads\\\\New folder (2)\\\\.cometml-runs' path as offline directory. Pass 'offline_directory' parameter into constructor or set the 'COMET_OFFLINE_DIRECTORY' environment variable to manually choose where to store offline experiment archives.\n",
            "COMET WARNING: Native output logging mode is not available, falling back to basic output logging\n",
            "\n",
            "Dataset not found , missing paths ['C:\\\\Users\\\\kapil\\\\Downloads\\\\New folder (2)\\\\yolov5\\\\yolov5\\\\breast-cancer-1\\\\valid\\\\images']\n",
            "Traceback (most recent call last):\n",
            "  File \"C:\\Users\\kapil\\Downloads\\New folder (2)\\yolov5\\yolov5\\train.py\", line 848, in <module>\n",
            "    main(opt)\n",
            "  File \"C:\\Users\\kapil\\Downloads\\New folder (2)\\yolov5\\yolov5\\train.py\", line 623, in main\n",
            "    train(opt.hyp, opt, device, callbacks)\n",
            "  File \"C:\\Users\\kapil\\Downloads\\New folder (2)\\yolov5\\yolov5\\train.py\", line 153, in train\n",
            "    loggers = Loggers(\n",
            "              ^^^^^^^^\n",
            "  File \"C:\\Users\\kapil\\Downloads\\New folder (2)\\yolov5\\yolov5\\utils\\loggers\\__init__.py\", line 148, in __init__\n",
            "    self.comet_logger = CometLogger(self.opt, self.hyp)\n",
            "                        ^^^^^^^^^^^^^^^^^^^^^^^^^^^^^^^\n",
            "  File \"C:\\Users\\kapil\\Downloads\\New folder (2)\\yolov5\\yolov5\\utils\\loggers\\comet\\__init__.py\", line 97, in __init__\n",
            "    self.data_dict = self.check_dataset(self.opt.data)\n",
            "                     ^^^^^^^^^^^^^^^^^^^^^^^^^^^^^^^^^\n",
            "  File \"C:\\Users\\kapil\\Downloads\\New folder (2)\\yolov5\\yolov5\\utils\\loggers\\comet\\__init__.py\", line 255, in check_dataset\n",
            "    return check_dataset(data_file)\n",
            "           ^^^^^^^^^^^^^^^^^^^^^^^^\n",
            "  File \"C:\\Users\\kapil\\Downloads\\New folder (2)\\yolov5\\yolov5\\utils\\general.py\", line 561, in check_dataset\n",
            "    raise Exception(\"Dataset not found ❌\")\n",
            "Exception: Dataset not found ❌\n",
            "COMET INFO: Couldn't find a Git repository in 'C:\\\\Users\\\\kapil\\\\Downloads\\\\New folder (2)' nor in any parent directory. Set `COMET_GIT_DIRECTORY` if your Git Repository is elsewhere.\n",
            "COMET INFO: ---------------------------------------------------------------------------------------\n",
            "COMET INFO: Comet.ml OfflineExperiment Summary\n",
            "COMET INFO: ---------------------------------------------------------------------------------------\n",
            "COMET INFO:   Data:\n",
            "COMET INFO:     display_summary_level : 1\n",
            "COMET INFO:     url                   : [OfflineExperiment will get URL after upload]\n",
            "COMET INFO:   Others:\n",
            "COMET INFO:     Name               : exp\n",
            "COMET INFO:     offline_experiment : True\n",
            "COMET INFO:   Uploads:\n",
            "COMET INFO:     asset               : 1 (367 bytes)\n",
            "COMET INFO:     environment details : 1\n",
            "COMET INFO:     installed packages  : 1\n",
            "COMET INFO: \n",
            "COMET INFO: Still saving offline stats to messages file before program termination (may take up to 120 seconds)\n",
            "COMET INFO: Starting saving the offline archive\n",
            "COMET INFO: To upload this offline experiment, run:\n",
            "    comet upload C:\\Users\\kapil\\Downloads\\New folder (2)\\.cometml-runs\\b0734b51ac9f4813995495b5d9077960.zip\n"
          ]
        }
      ],
      "source": [
        "!python \"C:\\Users\\kapil\\Downloads\\New folder (2)\\yolov5\\yolov5\\train.py\" --img 416 --batch 16 --epochs 150 --data \"C:\\Users\\kapil\\Downloads\\New folder (2)\\breast-cancer-1\\data.yaml\" --weights yolov5s.pt --cache\n"
      ]
    },
    {
      "cell_type": "code",
      "execution_count": 14,
      "metadata": {
        "id": "fxXjGW-XKbXQ"
      },
      "outputs": [],
      "source": [
        "from roboflow import Roboflow"
      ]
    },
    {
      "cell_type": "code",
      "execution_count": 15,
      "metadata": {
        "colab": {
          "base_uri": "https://localhost:8080/",
          "height": 355
        },
        "id": "wmH_wRtHKu2s",
        "outputId": "6c916f31-20de-412c-921e-0d2c5bdbfa52"
      },
      "outputs": [
        {
          "ename": "RuntimeError",
          "evalue": "API Key is of Incorrect Type \n Expected Type: <class 'str'>\n Input Type: <class 'NoneType'>",
          "output_type": "error",
          "traceback": [
            "\u001b[1;31m---------------------------------------------------------------------------\u001b[0m",
            "\u001b[1;31mRuntimeError\u001b[0m                              Traceback (most recent call last)",
            "Cell \u001b[1;32mIn[15], line 1\u001b[0m\n\u001b[1;32m----> 1\u001b[0m rf \u001b[38;5;241m=\u001b[39m \u001b[43mRoboflow\u001b[49m\u001b[43m(\u001b[49m\u001b[43mmodel_format\u001b[49m\u001b[38;5;241;43m=\u001b[39;49m\u001b[38;5;124;43m\"\u001b[39;49m\u001b[38;5;124;43myolov5\u001b[39;49m\u001b[38;5;124;43m\"\u001b[39;49m\u001b[43m \u001b[49m\u001b[43m,\u001b[49m\u001b[43m \u001b[49m\u001b[43mnotebook\u001b[49m\u001b[38;5;241;43m=\u001b[39;49m\u001b[38;5;124;43m\"\u001b[39;49m\u001b[38;5;124;43multralytics\u001b[39;49m\u001b[38;5;124;43m\"\u001b[39;49m\u001b[43m)\u001b[49m\n",
            "File \u001b[1;32mc:\\Users\\kapil\\AppData\\Local\\Programs\\Python\\Python312\\Lib\\site-packages\\roboflow\\__init__.py:230\u001b[0m, in \u001b[0;36mRoboflow.__init__\u001b[1;34m(self, api_key, model_format, notebook)\u001b[0m\n\u001b[0;32m    228\u001b[0m \u001b[38;5;28mself\u001b[39m\u001b[38;5;241m.\u001b[39mnotebook \u001b[38;5;241m=\u001b[39m notebook\n\u001b[0;32m    229\u001b[0m \u001b[38;5;28mself\u001b[39m\u001b[38;5;241m.\u001b[39monboarding \u001b[38;5;241m=\u001b[39m \u001b[38;5;28;01mFalse\u001b[39;00m\n\u001b[1;32m--> 230\u001b[0m \u001b[38;5;28;43mself\u001b[39;49m\u001b[38;5;241;43m.\u001b[39;49m\u001b[43mauth\u001b[49m\u001b[43m(\u001b[49m\u001b[43m)\u001b[49m\n",
            "File \u001b[1;32mc:\\Users\\kapil\\AppData\\Local\\Programs\\Python\\Python312\\Lib\\site-packages\\roboflow\\__init__.py:233\u001b[0m, in \u001b[0;36mRoboflow.auth\u001b[1;34m(self)\u001b[0m\n\u001b[0;32m    232\u001b[0m \u001b[38;5;28;01mdef\u001b[39;00m \u001b[38;5;21mauth\u001b[39m(\u001b[38;5;28mself\u001b[39m):\n\u001b[1;32m--> 233\u001b[0m     r \u001b[38;5;241m=\u001b[39m \u001b[43mcheck_key\u001b[49m\u001b[43m(\u001b[49m\u001b[38;5;28;43mself\u001b[39;49m\u001b[38;5;241;43m.\u001b[39;49m\u001b[43mapi_key\u001b[49m\u001b[43m,\u001b[49m\u001b[43m \u001b[49m\u001b[38;5;28;43mself\u001b[39;49m\u001b[38;5;241;43m.\u001b[39;49m\u001b[43mmodel_format\u001b[49m\u001b[43m,\u001b[49m\u001b[43m \u001b[49m\u001b[38;5;28;43mself\u001b[39;49m\u001b[38;5;241;43m.\u001b[39;49m\u001b[43mnotebook\u001b[49m\u001b[43m)\u001b[49m\n\u001b[0;32m    235\u001b[0m     \u001b[38;5;28;01mif\u001b[39;00m r \u001b[38;5;241m==\u001b[39m \u001b[38;5;124m\"\u001b[39m\u001b[38;5;124monboarding\u001b[39m\u001b[38;5;124m\"\u001b[39m:\n\u001b[0;32m    236\u001b[0m         \u001b[38;5;28mself\u001b[39m\u001b[38;5;241m.\u001b[39monboarding \u001b[38;5;241m=\u001b[39m \u001b[38;5;28;01mTrue\u001b[39;00m\n",
            "File \u001b[1;32mc:\\Users\\kapil\\AppData\\Local\\Programs\\Python\\Python312\\Lib\\site-packages\\roboflow\\__init__.py:22\u001b[0m, in \u001b[0;36mcheck_key\u001b[1;34m(api_key, model, notebook, num_retries)\u001b[0m\n\u001b[0;32m     20\u001b[0m \u001b[38;5;28;01mdef\u001b[39;00m \u001b[38;5;21mcheck_key\u001b[39m(api_key, model, notebook, num_retries\u001b[38;5;241m=\u001b[39m\u001b[38;5;241m0\u001b[39m):\n\u001b[0;32m     21\u001b[0m     \u001b[38;5;28;01mif\u001b[39;00m \u001b[38;5;129;01mnot\u001b[39;00m \u001b[38;5;28misinstance\u001b[39m(api_key, \u001b[38;5;28mstr\u001b[39m):\n\u001b[1;32m---> 22\u001b[0m         \u001b[38;5;28;01mraise\u001b[39;00m \u001b[38;5;167;01mRuntimeError\u001b[39;00m(\n\u001b[0;32m     23\u001b[0m             \u001b[38;5;124m\"\u001b[39m\u001b[38;5;124mAPI Key is of Incorrect Type \u001b[39m\u001b[38;5;130;01m\\n\u001b[39;00m\u001b[38;5;124m Expected Type: \u001b[39m\u001b[38;5;124m\"\u001b[39m \u001b[38;5;241m+\u001b[39m \u001b[38;5;28mstr\u001b[39m(\u001b[38;5;28mtype\u001b[39m(\u001b[38;5;124m\"\u001b[39m\u001b[38;5;124m\"\u001b[39m)) \u001b[38;5;241m+\u001b[39m \u001b[38;5;124m\"\u001b[39m\u001b[38;5;130;01m\\n\u001b[39;00m\u001b[38;5;124m Input Type: \u001b[39m\u001b[38;5;124m\"\u001b[39m \u001b[38;5;241m+\u001b[39m \u001b[38;5;28mstr\u001b[39m(\u001b[38;5;28mtype\u001b[39m(api_key))\n\u001b[0;32m     24\u001b[0m         )\n\u001b[0;32m     26\u001b[0m     \u001b[38;5;28;01mif\u001b[39;00m \u001b[38;5;28many\u001b[39m(c \u001b[38;5;28;01mfor\u001b[39;00m c \u001b[38;5;129;01min\u001b[39;00m api_key \u001b[38;5;28;01mif\u001b[39;00m c\u001b[38;5;241m.\u001b[39mislower()):  \u001b[38;5;66;03m# check if any of the api key characters are lowercase\u001b[39;00m\n\u001b[0;32m     27\u001b[0m         \u001b[38;5;28;01mif\u001b[39;00m api_key \u001b[38;5;129;01min\u001b[39;00m DEMO_KEYS:\n\u001b[0;32m     28\u001b[0m             \u001b[38;5;66;03m# passthrough for public download of COCO-128 for the time being\u001b[39;00m\n",
            "\u001b[1;31mRuntimeError\u001b[0m: API Key is of Incorrect Type \n Expected Type: <class 'str'>\n Input Type: <class 'NoneType'>"
          ]
        },
        {
          "ename": "",
          "evalue": "",
          "output_type": "error",
          "traceback": [
            "\u001b[1;31mThe Kernel crashed while executing code in the current cell or a previous cell. \n",
            "\u001b[1;31mPlease review the code in the cell(s) to identify a possible cause of the failure. \n",
            "\u001b[1;31mClick <a href='https://aka.ms/vscodeJupyterKernelCrash'>here</a> for more info. \n",
            "\u001b[1;31mView Jupyter <a href='command:jupyter.viewOutput'>log</a> for further details."
          ]
        }
      ],
      "source": [
        "rf = Roboflow(model_format=\"yolov5\" , notebook=\"ultralytics\")"
      ]
    },
    {
      "cell_type": "code",
      "execution_count": null,
      "metadata": {
        "id": "VSu-m6L8LuMY"
      },
      "outputs": [],
      "source": [
        "import os as mk"
      ]
    },
    {
      "cell_type": "code",
      "execution_count": null,
      "metadata": {
        "id": "HRDJXFhHMj4v"
      },
      "outputs": [],
      "source": [
        "from os import environ"
      ]
    },
    {
      "cell_type": "code",
      "execution_count": null,
      "metadata": {
        "colab": {
          "base_uri": "https://localhost:8080/",
          "height": 175
        },
        "id": "ukjcXjHiLF_X",
        "outputId": "24d360e9-2139-41c4-e265-b9713033f0c4"
      },
      "outputs": [],
      "source": [
        "mk.enveron[\"DATASET_DIRECTORY\"] = \"/content/breast-cancer-1\""
      ]
    }
  ],
  "metadata": {
    "accelerator": "GPU",
    "colab": {
      "gpuType": "T4",
      "provenance": []
    },
    "kernelspec": {
      "display_name": "Python 3",
      "name": "python3"
    },
    "language_info": {
      "codemirror_mode": {
        "name": "ipython",
        "version": 3
      },
      "file_extension": ".py",
      "mimetype": "text/x-python",
      "name": "python",
      "nbconvert_exporter": "python",
      "pygments_lexer": "ipython3",
      "version": "3.12.2"
    }
  },
  "nbformat": 4,
  "nbformat_minor": 0
}
